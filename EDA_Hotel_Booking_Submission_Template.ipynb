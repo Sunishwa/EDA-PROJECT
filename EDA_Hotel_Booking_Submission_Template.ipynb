{
  "nbformat": 4,
  "nbformat_minor": 0,
  "metadata": {
    "colab": {
      "private_outputs": true,
      "provenance": [],
      "collapsed_sections": [
        "gIfDvo9L0UH2"
      ],
      "include_colab_link": true
    },
    "kernelspec": {
      "name": "python3",
      "display_name": "Python 3"
    },
    "language_info": {
      "name": "python"
    }
  },
  "cells": [
    {
      "cell_type": "markdown",
      "metadata": {
        "id": "view-in-github",
        "colab_type": "text"
      },
      "source": [
        "<a href=\"https://colab.research.google.com/github/Sunishwa/EDA-PROJECT/blob/main/EDA_Hotel_Booking_Submission_Template.ipynb\" target=\"_parent\"><img src=\"https://colab.research.google.com/assets/colab-badge.svg\" alt=\"Open In Colab\"/></a>"
      ]
    },
    {
      "cell_type": "markdown",
      "source": [
        "# **Project Name**    -\n",
        "\n"
      ],
      "metadata": {
        "id": "vncDsAP0Gaoa"
      }
    },
    {
      "cell_type": "markdown",
      "source": [
        "##### **Project Type**    - EDA/Regression/Classification/Unsupervised\n",
        "##### **Contribution**    - Individual\n",
        "##### **Name** - SACHIN NAMDEV\n"
      ],
      "metadata": {
        "id": "beRrZCGUAJYm"
      }
    },
    {
      "cell_type": "markdown",
      "source": [
        "# **Project Summary -**"
      ],
      "metadata": {
        "id": "FJNUwmbgGyua"
      }
    },
    {
      "cell_type": "markdown",
      "source": [
        "This data set contains booking information for a city hotel and a resort hotel and includes information such as when the booking was made, length of stay, the number of adults, children, and/or babies, and the number of available parking spaces, among other things. All personally identifying information has from the data. We will perform exploratory data analysis with python to get insight from the data.\n",
        "\n",
        "\n"
      ],
      "metadata": {
        "id": "F6v_1wHtG2nS"
      }
    },
    {
      "cell_type": "markdown",
      "source": [
        "# **GitHub Link -**"
      ],
      "metadata": {
        "id": "w6K7xa23Elo4"
      }
    },
    {
      "cell_type": "markdown",
      "source": [
        "Provide your GitHub Link here."
      ],
      "metadata": {
        "id": "h1o69JH3Eqqn"
      }
    },
    {
      "cell_type": "markdown",
      "source": [
        "# **Problem Statement**\n"
      ],
      "metadata": {
        "id": "yQaldy8SH6Dl"
      }
    },
    {
      "cell_type": "markdown",
      "source": [
        "\n",
        "1.   How many booking were canceld?\n",
        "1.   Which are the three most common and uncommon countries of origin?\n",
        "2.   Which are the months of highest and least occupation?\n",
        "1.   What is the most popular meal package?\n",
        "2.   Which is the most reserved room type?\n",
        "2.   How many bookings changes have been done during the studied period?\n",
        "7.   How many people have been registered in the hotel?\n",
        "8.   How many car parking spaces have been used?\n",
        "9.   What is the most common customer type?"
      ],
      "metadata": {
        "id": "DpeJGUA3kjGy"
      }
    },
    {
      "cell_type": "markdown",
      "source": [
        "#### **Define Your Business Objective?**"
      ],
      "metadata": {
        "id": "PH-0ReGfmX4f"
      }
    },
    {
      "cell_type": "markdown",
      "source": [
        "According to me Business Objective is something that must be Explore and update according to market demand in a particular segment where you are the Master."
      ],
      "metadata": {
        "id": "PhDvGCAqmjP1"
      }
    },
    {
      "cell_type": "markdown",
      "source": [
        "# **General Guidelines** : -  "
      ],
      "metadata": {
        "id": "mDgbUHAGgjLW"
      }
    },
    {
      "cell_type": "markdown",
      "source": [
        "1.   Well-structured, formatted, and commented code is required.\n",
        "2.   Exception Handling, Production Grade Code & Deployment Ready Code will be a plus. Those students will be awarded some additional credits.\n",
        "     \n",
        "     The additional credits will have advantages over other students during Star Student selection.\n",
        "       \n",
        "             [ Note: - Deployment Ready Code is defined as, the whole .ipynb notebook should be executable in one go\n",
        "                       without a single error logged. ]\n",
        "\n",
        "3.   Each and every logic should have proper comments.\n",
        "4. You may add as many number of charts you want. Make Sure for each and every chart the following format should be answered.\n",
        "        \n",
        "\n",
        "```\n",
        "# Chart visualization code\n",
        "```\n",
        "            \n",
        "\n",
        "*   Why did you pick the specific chart?\n",
        "*   What is/are the insight(s) found from the chart?\n",
        "* Will the gained insights help creating a positive business impact?\n",
        "Are there any insights that lead to negative growth? Justify with specific reason.\n",
        "\n",
        "5. You have to create at least 20 logical & meaningful charts having important insights.\n",
        "\n",
        "\n",
        "[ Hints : - Do the Vizualization in  a structured way while following \"UBM\" Rule.\n",
        "\n",
        "U - Univariate Analysis,\n",
        "\n",
        "B - Bivariate Analysis (Numerical - Categorical, Numerical - Numerical, Categorical - Categorical)\n",
        "\n",
        "M - Multivariate Analysis\n",
        " ]\n",
        "\n",
        "\n",
        "\n"
      ],
      "metadata": {
        "id": "ZrxVaUj-hHfC"
      }
    },
    {
      "cell_type": "markdown",
      "source": [
        "# ***Let's Begin !***"
      ],
      "metadata": {
        "id": "O_i_v8NEhb9l"
      }
    },
    {
      "cell_type": "markdown",
      "source": [
        "## ***1. Know Your Data***"
      ],
      "metadata": {
        "id": "HhfV-JJviCcP"
      }
    },
    {
      "cell_type": "markdown",
      "source": [
        "### Import Libraries"
      ],
      "metadata": {
        "id": "Y3lxredqlCYt"
      }
    },
    {
      "cell_type": "code",
      "source": [
        "import pandas as pd\n",
        "import numpy as np\n",
        "import matplotlib.pyplot as plt\n",
        "import seaborn as sns"
      ],
      "metadata": {
        "id": "M8Vqi-pPk-HR"
      },
      "execution_count": null,
      "outputs": []
    },
    {
      "cell_type": "markdown",
      "source": [
        "\n",
        "*   Pandas for data manipulation, aggregation\n",
        "*   Numpy for computationally efficient operations\n",
        "*   Matplotlib and seaborn for visualisation and behaviour with respect to the target Varible\n",
        "\n",
        "\n",
        "\n"
      ],
      "metadata": {
        "id": "Z58_aOcBcTAr"
      }
    },
    {
      "cell_type": "markdown",
      "source": [
        "### Dataset Loading"
      ],
      "metadata": {
        "id": "3RnN4peoiCZX"
      }
    },
    {
      "cell_type": "code",
      "source": [
        "from google.colab import drive\n",
        "drive.mount('/content/drive')"
      ],
      "metadata": {
        "id": "a8Gyq8IgdjqX"
      },
      "execution_count": null,
      "outputs": []
    },
    {
      "cell_type": "code",
      "source": [
        "# Load Dataset\n",
        "data = pd.read_csv(\"/content/drive/MyDrive/Projecs at almabetter/Hotel Bookings.csv\")"
      ],
      "metadata": {
        "id": "4CkvbW_SlZ_R"
      },
      "execution_count": null,
      "outputs": []
    },
    {
      "cell_type": "markdown",
      "source": [
        "### Dataset First View"
      ],
      "metadata": {
        "id": "x71ZqKXriCWQ"
      }
    },
    {
      "cell_type": "code",
      "source": [
        "# Dataset First Look\n",
        "data.head()"
      ],
      "metadata": {
        "id": "LWNFOSvLl09H"
      },
      "execution_count": null,
      "outputs": []
    },
    {
      "cell_type": "code",
      "source": [
        "data.tail()"
      ],
      "metadata": {
        "id": "3rSMWq8LgpRD"
      },
      "execution_count": null,
      "outputs": []
    },
    {
      "cell_type": "markdown",
      "source": [
        "\n",
        "\n",
        "*   **head**() :- The head function in Python displays the **first** five rows of the dataframe by default.\n",
        "*   **tail**() :- The head function in Python displays the **last** five rows of the dataframe by default.\n",
        "\n"
      ],
      "metadata": {
        "id": "lvi03-ubYDed"
      }
    },
    {
      "cell_type": "markdown",
      "source": [
        "### Dataset Rows & Columns count"
      ],
      "metadata": {
        "id": "7hBIi_osiCS2"
      }
    },
    {
      "cell_type": "code",
      "source": [
        "# Dataset Rows & Columns count\n",
        "data.shape"
      ],
      "metadata": {
        "id": "Kllu7SJgmLij"
      },
      "execution_count": null,
      "outputs": []
    },
    {
      "cell_type": "markdown",
      "source": [
        "\n",
        "*   **shape** attribute in Pandas enables us to obtain the shape of a DataFrame.\n",
        "\n",
        "\n",
        "\n"
      ],
      "metadata": {
        "id": "Sjc8aIYfaFcz"
      }
    },
    {
      "cell_type": "markdown",
      "source": [
        "### Dataset Information"
      ],
      "metadata": {
        "id": "JlHwYmJAmNHm"
      }
    },
    {
      "cell_type": "code",
      "source": [
        "# Dataset Info\n",
        "data.info()"
      ],
      "metadata": {
        "id": "e9hRXRi6meOf"
      },
      "execution_count": null,
      "outputs": []
    },
    {
      "cell_type": "markdown",
      "source": [
        "\n",
        "\n",
        "*   **info()**  method prints information about the DataFrame. The information contains the number of columns, column labels, column data types, memory usage, range index, and the number of cells in each column (non-null values).\n",
        "\n"
      ],
      "metadata": {
        "id": "5u_-hYEKa69T"
      }
    },
    {
      "cell_type": "markdown",
      "source": [
        "#### Duplicate Values"
      ],
      "metadata": {
        "id": "35m5QtbWiB9F"
      }
    },
    {
      "cell_type": "code",
      "source": [
        "dup = data[data.duplicated()]\n",
        "dup"
      ],
      "metadata": {
        "id": "rC1ZZ4AaSK83"
      },
      "execution_count": null,
      "outputs": []
    },
    {
      "cell_type": "code",
      "source": [
        "dup1 = data.duplicated(subset='hotel')\n",
        "dup1"
      ],
      "metadata": {
        "id": "rEy4JNSyUaU1"
      },
      "execution_count": null,
      "outputs": []
    },
    {
      "cell_type": "markdown",
      "source": [
        "\n",
        "\n",
        "*   **duplicated**() method helps in analyzing duplicate values only. It returns a boolean series which is True only for Unique elements.\n",
        "\n"
      ],
      "metadata": {
        "id": "AG4T1b3AVMMu"
      }
    },
    {
      "cell_type": "code",
      "source": [
        "# Dataset Duplicate Value Counts\n",
        "Dup1 = data.pivot_table(index=['hotel'], aggfunc='size')\n",
        "Dup1"
      ],
      "metadata": {
        "id": "1sLdpKYkmox0"
      },
      "execution_count": null,
      "outputs": []
    },
    {
      "cell_type": "markdown",
      "source": [
        "\n",
        "\n",
        "*   **.pivot_table()** function count the duplicates in a single column. Set index parameter as a list with a column along with aggfunc=size into pivot_table() function, it will return the count of the duplicate values of a specified single column of a given DataFrame.\n",
        "\n"
      ],
      "metadata": {
        "id": "M2DAFAnQVtsz"
      }
    },
    {
      "cell_type": "markdown",
      "source": [
        "#### Missing Values/Null Values"
      ],
      "metadata": {
        "id": "PoPl-ycgm1ru"
      }
    },
    {
      "cell_type": "code",
      "source": [
        "# Missing Values/Null Values Count\n",
        "data.isnull().sum()"
      ],
      "metadata": {
        "id": "GgHWkxvamxVg"
      },
      "execution_count": null,
      "outputs": []
    },
    {
      "cell_type": "markdown",
      "source": [
        "The dataset contains Missing values\n",
        "\n",
        "Drop unecessary columns:\n",
        "\n",
        "Lets drop columns with high missing values."
      ],
      "metadata": {
        "id": "xIkyYBrOEDaJ"
      }
    },
    {
      "cell_type": "code",
      "source": [
        "# Visualizing the missing values\n",
        "hotel=data.drop(['agent','company'],axis=1)"
      ],
      "metadata": {
        "id": "3q5wnI3om9sJ"
      },
      "execution_count": null,
      "outputs": []
    },
    {
      "cell_type": "markdown",
      "source": [
        "Country has 488 rows with the NaN values. 488 rows out of 119390 is negligible hence we will just remove."
      ],
      "metadata": {
        "id": "H8yx2UKBEd5X"
      }
    },
    {
      "cell_type": "code",
      "source": [
        "hotel = hotel.dropna(axis = 0)\n",
        "hotel.isnull().sum()"
      ],
      "metadata": {
        "id": "3Iu-6YwrEgCe"
      },
      "execution_count": null,
      "outputs": []
    },
    {
      "cell_type": "markdown",
      "source": [
        "### What did you know about your dataset?"
      ],
      "metadata": {
        "id": "H0kj-8xxnORC"
      }
    },
    {
      "cell_type": "markdown",
      "source": [
        "Lets Rename the columns for better readability"
      ],
      "metadata": {
        "id": "F-yDcH_FHNQx"
      }
    },
    {
      "cell_type": "code",
      "source": [
        "hotel.columns = ['Hotel', 'Canceled', 'LeadTime', 'ArrivingYear', 'ArrivingMonth', 'ArrivingWeek','ArrivingDate', 'WeekendStay',\n",
        "              'WeekStay', 'Adults', 'Children', 'Babies', 'Meal','Country', 'Segment', 'DistChannel','RepeatGuest', 'PrevCancel',\n",
        "              'PrevBook', 'BookRoomType','AssignRoomType', 'ChangeBooking', 'DepositType', 'WaitingDays',\n",
        "              'CustomerType', 'ADR','ParkSpace', 'SpecialRequest','Reservation', 'ReservationDate']"
      ],
      "metadata": {
        "id": "MUe4P-qnHLmR"
      },
      "execution_count": null,
      "outputs": []
    },
    {
      "cell_type": "code",
      "source": [
        "hotel.head()"
      ],
      "metadata": {
        "id": "9KomSNtHHapX"
      },
      "execution_count": null,
      "outputs": []
    },
    {
      "cell_type": "markdown",
      "source": [
        "## ***2. Understanding Your Variables***"
      ],
      "metadata": {
        "id": "nA9Y7ga8ng1Z"
      }
    },
    {
      "cell_type": "code",
      "source": [
        "# Dataset Columns\n",
        "hotel.columns"
      ],
      "metadata": {
        "id": "j7xfkqrt5Ag5"
      },
      "execution_count": null,
      "outputs": []
    },
    {
      "cell_type": "code",
      "source": [
        "# Dataset Describe\n",
        "hotel.describe()"
      ],
      "metadata": {
        "id": "DnOaZdaE5Q5t"
      },
      "execution_count": null,
      "outputs": []
    },
    {
      "cell_type": "markdown",
      "source": [
        "* **columns** property returns the label of each column in the DataFrame.\n",
        "\n",
        "*   **describe()** method is used for calculating some statistical data like percentile, mean and std of the numerical values of the Series or DataFrame.\n",
        "\n"
      ],
      "metadata": {
        "id": "LP4rNgZqC_fz"
      }
    },
    {
      "cell_type": "markdown",
      "source": [
        "### Variables Description"
      ],
      "metadata": {
        "id": "PBTbrJXOngz2"
      }
    },
    {
      "cell_type": "markdown",
      "source": [
        "1. **Hotel**: type of hotels\n",
        "2. **Canceled**: canceled or not\n",
        "3. **Leadtime**: no. of days before actual arrival in the hotel\n",
        "4. **ArrivingYear**: year of booking\n",
        "5. **ArrivingMonth**: month of booking\n",
        "6. **ArrivingWeek**: week number of the year in which booking\n",
        "7.**ArrivingDate**: arrival month date             \n",
        "8. **WeekendStay**: no. of weekends guest stayed                \n",
        "9. **WeekStay**: no. of weekdays guest stayed                  \n",
        "10. **Adults**                                 \n",
        "11. **Children**                               \n",
        "12. **Babies**                                 \n",
        "13. **Meal**:   BB – Bed & Breakfast, HB– only two meals including breakfast meal, FB – breakfast, lunch, and dinner\n",
        "14. **Country**                              \n",
        "15. **Segment**:   TA: Travel agent, TO: Tour operators                       \n",
        "16. **DistChannel**                 \n",
        "17. **RepeatGuest**                    \n",
        "18. **PrevCancel**: cancellation in past                 \n",
        "19. **PrevBook**: not cancelled in past        \n",
        "20. **BookRoomType**                     \n",
        "21. **AssignRoomType**                     \n",
        "22. **ChangeBooking**                        \n",
        "23. **DepositType**                                                     \n",
        "26. **WaitingDays**                   \n",
        "27. **CustomerType**                          \n",
        "28. **ADR**: average daily rate                                   \n",
        "29. **ParkSpace**            \n",
        "30. **SpecialRequest**              \n",
        "31. **Reservation**                     \n",
        "32. **ReservationDate**\n"
      ],
      "metadata": {
        "id": "aJV4KIxSnxay"
      }
    },
    {
      "cell_type": "markdown",
      "source": [
        "### Check Unique Values for each variable."
      ],
      "metadata": {
        "id": "u3PMJOP6ngxN"
      }
    },
    {
      "cell_type": "code",
      "source": [
        "# Check Unique Values for each variable.\n",
        "hotel[\"Hotel\"].unique().tolist()"
      ],
      "metadata": {
        "id": "cdGQ7hd8-7vC"
      },
      "execution_count": null,
      "outputs": []
    },
    {
      "cell_type": "code",
      "source": [
        "hotel[\"Canceled\"].unique().tolist()"
      ],
      "metadata": {
        "id": "NOfORZX7Avfj"
      },
      "execution_count": null,
      "outputs": []
    },
    {
      "cell_type": "code",
      "source": [
        "hotel[\"LeadTime\"].unique()"
      ],
      "metadata": {
        "id": "cGDeA9qWA2ZO"
      },
      "execution_count": null,
      "outputs": []
    },
    {
      "cell_type": "code",
      "source": [
        "df2 = pd.unique(hotel[['Hotel', 'Canceled', 'LeadTime', 'ArrivingYear', 'ArrivingMonth',\n",
        "       'ArrivingWeek', 'ArrivingDate', 'WeekendStay', 'WeekStay', 'Adults',\n",
        "       'Children', 'Babies', 'Meal', 'Country', 'Segment', 'DistChannel',\n",
        "       'RepeatGuest', 'PrevCancel', 'PrevBook', 'BookRoomType',\n",
        "       'AssignRoomType', 'ChangeBooking', 'DepositType', 'WaitingDays',\n",
        "       'CustomerType', 'ADR', 'ParkSpace', 'SpecialRequest', 'Reservation',\n",
        "       'ReservationDate']].values.ravel('k'))\n",
        "df2"
      ],
      "metadata": {
        "id": "TEcuoNyP_3BY"
      },
      "execution_count": null,
      "outputs": []
    },
    {
      "cell_type": "markdown",
      "source": [
        "\n",
        "\n",
        "* **.unique()** function in pandas is used to find the unique values from a series. A series is a single column of a data frame.\n",
        "\n"
      ],
      "metadata": {
        "id": "1FRdAMZKWYfH"
      }
    },
    {
      "cell_type": "markdown",
      "source": [
        "## 3. ***Data Wrangling***"
      ],
      "metadata": {
        "id": "dauF4eBmngu3"
      }
    },
    {
      "cell_type": "markdown",
      "source": [
        "### Data Wrangling Code"
      ],
      "metadata": {
        "id": "bKJF3rekwFvQ"
      }
    },
    {
      "cell_type": "markdown",
      "source": [
        "Identify Continuous and Categorical Variables"
      ],
      "metadata": {
        "id": "M6eUB3a6LPtk"
      }
    },
    {
      "cell_type": "code",
      "source": [
        "# Write your code to make your dataset analysis ready.\n",
        "def var(hotel):\n",
        "    unique_list = pd.DataFrame([[i,len(hotel[i].unique())] for i in hotel.columns])\n",
        "    unique_list.columns = ['name','uniques']\n",
        "\n",
        "    total_var = set(hotel.columns)\n",
        "    cat_var = set(unique_list.name[(unique_list.uniques<=12)      |\n",
        "                                   (unique_list.name=='Country')  |\n",
        "                                   (unique_list.name=='Agent')\n",
        "                                  ])\n",
        "    con_var = total_var - cat_var\n",
        "\n",
        "    return cat_var, con_var\n",
        "\n",
        "\n",
        "cat_var, con_var = var(hotel)\n",
        "\n",
        "print(\"Continuous Variables (\",len(con_var),\")\\n\",con_var,'\\n\\n'\n",
        "      \"Categorical Variables(\",len(cat_var),\")\\n\",cat_var)"
      ],
      "metadata": {
        "id": "wk-9a2fpoLcV"
      },
      "execution_count": null,
      "outputs": []
    },
    {
      "cell_type": "code",
      "source": [
        "features = ['LeadTime', 'WeekendStay', 'WeekStay', 'Adults','Children', 'Babies','ADR']\n",
        "n = 1\n",
        "plt.figure(figsize=(16,18))\n",
        "for feature in features:\n",
        "    plt.subplot(4,4,n)\n",
        "    sns.boxplot(hotel[features])\n",
        "    n+=1\n",
        "    plt.tight_layout()"
      ],
      "metadata": {
        "id": "hXQ3wh-3M2eP"
      },
      "execution_count": null,
      "outputs": []
    },
    {
      "cell_type": "markdown",
      "source": [
        "* Here we can see some outliers.lets remove the outliers by using conditionals to get and update these values."
      ],
      "metadata": {
        "id": "KxKersAVZ22W"
      }
    },
    {
      "cell_type": "code",
      "source": [
        "hotel[con_var].describe()"
      ],
      "metadata": {
        "id": "NWczDNsFLjRI"
      },
      "execution_count": null,
      "outputs": []
    },
    {
      "cell_type": "code",
      "source": [
        "hotel.loc[hotel.LeadTime      > 500,'LeadTime'     ]=500\n",
        "hotel.loc[hotel.WaitingDays   >   0,'WaitingDays'  ]=  1\n",
        "hotel.loc[hotel.WeekendStay   >=  5,'WeekendStay'  ]=  5\n",
        "hotel.loc[hotel.Adults        >   4,'Adults'       ]=  4\n",
        "hotel.loc[hotel.PrevBook      >   0,'PrevBook'     ]=  1\n",
        "hotel.loc[hotel.PrevCancel    >   0,'PrevCancel'   ]=  1\n",
        "hotel.loc[hotel.WeekStay      >  10,'WeekStay'     ]= 10\n",
        "hotel.loc[hotel.ChangeBooking >   5,'ChangeBooking']=  5\n",
        "cat_var = set(list(cat_var) + ['PrevBook','PrevCancel'])\n",
        "con_var = set(hotel.columns) - cat_var\n",
        "\n",
        "hotel[con_var].describe()\n"
      ],
      "metadata": {
        "id": "RRhZ82kONgSw"
      },
      "execution_count": null,
      "outputs": []
    },
    {
      "cell_type": "code",
      "source": [
        "hotel[cat_var].describe()"
      ],
      "metadata": {
        "id": "-vFUFlnyCeVJ"
      },
      "execution_count": null,
      "outputs": []
    },
    {
      "cell_type": "code",
      "source": [
        "hotel.loc[hotel.Babies    > 8,'Babies']    = 0\n",
        "hotel.loc[hotel.ParkSpace > 5,'ParkSpace'] = 0\n",
        "hotel.loc[hotel.Children  > 8,'Children']  = 0\n",
        "\n",
        "hotel[cat_var].describe()"
      ],
      "metadata": {
        "id": "MBTKGulAMXqs"
      },
      "execution_count": null,
      "outputs": []
    },
    {
      "cell_type": "markdown",
      "source": [
        "* We removed the outliers. Our data is clean now.\n",
        "\n"
      ],
      "metadata": {
        "id": "9WXuhTtYbG_7"
      }
    },
    {
      "cell_type": "markdown",
      "source": [
        "### What all manipulations have you done and insights you found?"
      ],
      "metadata": {
        "id": "MSa1f5Uengrz"
      }
    },
    {
      "cell_type": "markdown",
      "source": [
        "Lets merge ‘children’ and ‘babies’ columns into ‘kids’ column."
      ],
      "metadata": {
        "id": "4HrIc_DZbd2H"
      }
    },
    {
      "cell_type": "code",
      "source": [
        "hotel['Kids'] = hotel.Children + hotel.Babies\n",
        "hotel['total_members'] = hotel.Kids + hotel.Adults"
      ],
      "metadata": {
        "id": "94xDKEnwD3PK"
      },
      "execution_count": null,
      "outputs": []
    },
    {
      "cell_type": "markdown",
      "source": [
        "Then, we set the string type to the corresponding columns."
      ],
      "metadata": {
        "id": "2uBVk5mWbRNg"
      }
    },
    {
      "cell_type": "code",
      "source": [
        "hotel['ArrivingYear'] = hotel['ArrivingYear'].astype('str')\n",
        "hotel['ArrivingMonth'] = hotel['ArrivingMonth'].astype('str')\n",
        "hotel['ArrivingDate'] = hotel['ArrivingDate'].astype('str')\n",
        "hotel['Canceled'] = hotel['Canceled'].astype('str')\n",
        "hotel['RepeatGuest'] = hotel['RepeatGuest'].astype('str')"
      ],
      "metadata": {
        "id": "hivbaimEE6eo"
      },
      "execution_count": null,
      "outputs": []
    },
    {
      "cell_type": "markdown",
      "source": [
        "Lets convert arrival date to datetime"
      ],
      "metadata": {
        "id": "6_AA3J9kb1-I"
      }
    },
    {
      "cell_type": "code",
      "source": [
        "hotel['Arrival Date'] = hotel['ArrivingDate'] + '-' + hotel['ArrivingMonth'] + '-' + hotel['ArrivingYear']\n",
        "hotel['Arrival Date'] = pd.to_datetime(hotel['Arrival Date'], errors='coerce')"
      ],
      "metadata": {
        "id": "YktgBSKTE-b9"
      },
      "execution_count": null,
      "outputs": []
    },
    {
      "cell_type": "code",
      "source": [
        "confirmed_bookings = hotel[hotel.Canceled=='0']"
      ],
      "metadata": {
        "id": "Su3Sx8QWFH48"
      },
      "execution_count": null,
      "outputs": []
    },
    {
      "cell_type": "code",
      "source": [
        "import datetime as dt\n",
        "confirmed_bookings['ArrivingMonth'] = hotel['Arrival Date'].dt.month\n",
        "final=confirmed_bookings['ArrivingMonth'].value_counts().sort_index()\n",
        "final"
      ],
      "metadata": {
        "id": "KhLSoym-FLFq"
      },
      "execution_count": null,
      "outputs": []
    },
    {
      "cell_type": "markdown",
      "source": [
        "# **EXPLORATORY DATA ANALYSIS**"
      ],
      "metadata": {
        "id": "LbyXE7I1olp8"
      }
    },
    {
      "cell_type": "code",
      "source": [
        "print('Total Bookings canceled')\n",
        "print('-'*50)\n",
        "print(hotel.Canceled.value_counts())\n",
        "print('-'*50)\n",
        "print('*'*75)\n",
        "print('Cancelation percentage in both hotels ')\n",
        "print('-'*50)\n",
        "print(hotel.Canceled.value_counts(normalize=True))"
      ],
      "metadata": {
        "id": "m9BOm5OjF60l"
      },
      "execution_count": null,
      "outputs": []
    },
    {
      "cell_type": "markdown",
      "source": [
        "**44153 bookings were canceled which is around 37%**"
      ],
      "metadata": {
        "id": "t7s6og8DaD0j"
      }
    },
    {
      "cell_type": "code",
      "source": [
        "hotel.Country.value_counts(normalize=True)"
      ],
      "metadata": {
        "id": "uFRTfAKxGBoX"
      },
      "execution_count": null,
      "outputs": []
    },
    {
      "cell_type": "markdown",
      "source": [
        "**Around 40% of all bookings were booked from Portugal followed by Great Britain(10%) & France(8%).**"
      ],
      "metadata": {
        "id": "F-MTTQ1haK_W"
      }
    },
    {
      "cell_type": "code",
      "source": [
        "hotel.ArrivingMonth.value_counts(normalize=True)"
      ],
      "metadata": {
        "id": "kCX8-6CucDQB"
      },
      "execution_count": null,
      "outputs": []
    },
    {
      "cell_type": "markdown",
      "source": [
        "**August is the most occupied (busiest) month with 11.62% bookings and January is the most unoccupied month with 4.96% bookings.**"
      ],
      "metadata": {
        "id": "fAS6ny14aUsd"
      }
    },
    {
      "cell_type": "code",
      "source": [
        "hotel.Segment.value_counts(normalize=True)"
      ],
      "metadata": {
        "id": "gV-pXTXVGJal"
      },
      "execution_count": null,
      "outputs": []
    },
    {
      "cell_type": "markdown",
      "source": [
        "**Around 47% of bookings are made via Online Travel Agents, almost 20% of bookings are made via Offline Travel Agents and less than 20% are Direct bookings without any other agents.**"
      ],
      "metadata": {
        "id": "Hb43_77BaeLI"
      }
    },
    {
      "cell_type": "code",
      "source": [
        "hotel.ArrivingYear.value_counts(normalize=True)"
      ],
      "metadata": {
        "id": "6lY6FLT0GNoW"
      },
      "execution_count": null,
      "outputs": []
    },
    {
      "cell_type": "markdown",
      "source": [
        "**47% bookings were done in 2016, 34% in 2017 and 18 percent in 2015.. We can see increasing tendency in bookings year wise**"
      ],
      "metadata": {
        "id": "Qz0tZjGealmn"
      }
    },
    {
      "cell_type": "code",
      "source": [
        "hotel.Meal.value_counts(normalize=True)"
      ],
      "metadata": {
        "id": "bOBg4t3RGRoK"
      },
      "execution_count": null,
      "outputs": []
    },
    {
      "cell_type": "markdown",
      "source": [
        "**Out of the meals, BB (Bed & Breakfast) is the most ordered meal which is around 77.2%, followed by HB(Half Board), SC(no meal package), Undefined and FB (Full Board).**"
      ],
      "metadata": {
        "id": "GOd6JUxfarbu"
      }
    },
    {
      "cell_type": "code",
      "source": [
        "hotel.CustomerType.value_counts(normalize=True)"
      ],
      "metadata": {
        "id": "uMKpCxDEGVTd"
      },
      "execution_count": null,
      "outputs": []
    },
    {
      "cell_type": "markdown",
      "source": [
        "**Transient type of customers are the more around 75%**"
      ],
      "metadata": {
        "id": "1kcScWIbav1h"
      }
    },
    {
      "cell_type": "code",
      "source": [
        "hotel.Reservation.value_counts(normalize=True)"
      ],
      "metadata": {
        "id": "IQ5P-rHKGbUp"
      },
      "execution_count": null,
      "outputs": []
    },
    {
      "cell_type": "markdown",
      "source": [
        "**We can see 63% visitors checked out and 36% bookings were canceled**"
      ],
      "metadata": {
        "id": "c-oQeDBxa2tQ"
      }
    },
    {
      "cell_type": "markdown",
      "source": [
        "## ***4. Data Vizualization, Storytelling & Experimenting with charts : Understand the relationships between variables***"
      ],
      "metadata": {
        "id": "GF8Ens_Soomf"
      }
    },
    {
      "cell_type": "markdown",
      "source": [
        "**🎨 Styling Plots:**\n",
        "\n",
        "1. Matplotlib allows you to customize the style of your plots using stylesheets.\n",
        "\n",
        "2. Stylesheets control the look and feel of your plots, including the colors, fonts, and overall style.\n",
        "\n",
        "3. You can set a style sheet using the plt.style.use() function.\n",
        "\n",
        "**🔣 Adding Labels:**\n",
        "\n",
        "1. Adding labels to your plots is essential for understanding the data being presented.\n",
        "\n",
        "2. To add a title to a plot, use the plt.title() function.\n",
        "\n",
        "3. To add axis labels, use the plt.xlabel() and plt.ylabel() functions.\n",
        "**🎨 Customizing Colors:**\n",
        "\n",
        "1. Matplotlib allows you to customize the colors of your plots using a variety of methods.\n",
        "\n",
        "2. To change the color of a line, use the color parameter in the plt.plot() function.\n",
        "\n",
        "3. You can also specify colors using HTML/CSS color codes or RGB values.\n",
        "**🔣 Setting Limits:**\n",
        "\n",
        "1. You can set the limits of your plot using the plt.xlim() and plt.ylim() functions.\n",
        "\n",
        "2. This is useful for focusing on a specific region of the plot or for ensuring consistency across multiple plots."
      ],
      "metadata": {
        "id": "7eFsjoEbgswS"
      }
    },
    {
      "cell_type": "markdown",
      "source": [
        "#### Chart - 1"
      ],
      "metadata": {
        "id": "0wOQAZs5pc--"
      }
    },
    {
      "cell_type": "code",
      "source": [
        "# Chart - 1 visualization code\n",
        "sns.barplot(x='ArrivingYear', y='LeadTime',hue='Canceled', data= hotel)\n",
        "plt.title('Arriving year, Leadtime and Cancelations')"
      ],
      "metadata": {
        "id": "7v_ESjsspbW7"
      },
      "execution_count": null,
      "outputs": []
    },
    {
      "cell_type": "markdown",
      "source": [
        "##### 1. Why did you pick the specific chart?"
      ],
      "metadata": {
        "id": "K5QZ13OEpz2H"
      }
    },
    {
      "cell_type": "markdown",
      "source": [
        "Here barplot will give clear and concise view to see how lead time will affect."
      ],
      "metadata": {
        "id": "XESiWehPqBRc"
      }
    },
    {
      "cell_type": "markdown",
      "source": [
        "##### 2. What is/are the insight(s) found from the chart?"
      ],
      "metadata": {
        "id": "lQ7QKXXCp7Bj"
      }
    },
    {
      "cell_type": "markdown",
      "source": [
        "For all the 3 years, bookings with a lead time less than 100 days have fewer chances of getting canceled, and lead time more than 100 days have more chances of getting canceled.Answer Here"
      ],
      "metadata": {
        "id": "C_j1G7yiqdRP"
      }
    },
    {
      "cell_type": "markdown",
      "source": [
        "##### 3. Will the gained insights help creating a positive business impact?\n",
        "Are there any insights that lead to negative growth? Justify with specific reason."
      ],
      "metadata": {
        "id": "448CDAPjqfQr"
      }
    },
    {
      "cell_type": "markdown",
      "source": [
        "When the lead time exceeds about 60, guests frequently cancel their bookings (cancellation rate is higher after this point). Additionally, people want their vacation or work schedules to be calculated across 100 days, or 50% of the data."
      ],
      "metadata": {
        "id": "3cspy4FjqxJW"
      }
    },
    {
      "cell_type": "markdown",
      "source": [
        "#### Chart - 2"
      ],
      "metadata": {
        "id": "KSlN3yHqYklG"
      }
    },
    {
      "cell_type": "code",
      "source": [
        "# Chart - 2 visualization code\n",
        "sns.countplot(x='Hotel',hue=\"Canceled\", data=hotel,)\n",
        "plt.title(\"Cancelation rates in City hotel and Resort hotel\",fontweight=\"bold\", size=20)\n",
        "plt.show()"
      ],
      "metadata": {
        "id": "R4YgtaqtYklH"
      },
      "execution_count": null,
      "outputs": []
    },
    {
      "cell_type": "markdown",
      "source": [
        "##### 1. Why did you pick the specific chart?"
      ],
      "metadata": {
        "id": "t6dVpIINYklI"
      }
    },
    {
      "cell_type": "markdown",
      "source": [
        "Count Plot is a good choice to see the amount distribution for each hotel type."
      ],
      "metadata": {
        "id": "5aaW0BYyYklI"
      }
    },
    {
      "cell_type": "markdown",
      "source": [
        "##### 2. What is/are the insight(s) found from the chart?"
      ],
      "metadata": {
        "id": "ijmpgYnKYklI"
      }
    },
    {
      "cell_type": "markdown",
      "source": [
        "Here we saw that most booking are done in city hotel while the cancelation is less in resort hotel."
      ],
      "metadata": {
        "id": "PSx9atu2YklI"
      }
    },
    {
      "cell_type": "markdown",
      "source": [
        "##### 3. Will the gained insights help creating a positive business impact?\n",
        "Are there any insights that lead to negative growth? Justify with specific reason."
      ],
      "metadata": {
        "id": "-JiQyfWJYklI"
      }
    },
    {
      "cell_type": "markdown",
      "source": [
        "* Most bookings were in city hotel\n",
        "* Cancelations in Resort hotel is less compared to city hotel\n",
        "\n",
        "\n",
        "\n"
      ],
      "metadata": {
        "id": "BcBbebzrYklV"
      }
    },
    {
      "cell_type": "markdown",
      "source": [
        "#### Chart - 3"
      ],
      "metadata": {
        "id": "EM7whBJCYoAo"
      }
    },
    {
      "cell_type": "code",
      "source": [
        "# Chart - 3 visualization code\n",
        "plt.figure(figsize=(12,5))\n",
        "hotel['adr_pp'] = hotel['ADR'] / (hotel['Adults'] + hotel['Children'])\n",
        "actual_guests = hotel.loc[hotel[\"Canceled\"] == '0']\n",
        "actual_guests['price'] = actual_guests['ADR'] * (actual_guests['WeekendStay'] + actual_guests['WeekStay'])\n",
        "sns.lineplot(data = actual_guests, x = 'ArrivingMonth', y = 'price', hue = 'Hotel')\n",
        "plt.show()"
      ],
      "metadata": {
        "id": "t6GMdE67YoAp"
      },
      "execution_count": null,
      "outputs": []
    },
    {
      "cell_type": "markdown",
      "source": [
        "##### 1. Why did you pick the specific chart?"
      ],
      "metadata": {
        "id": "fge-S5ZAYoAp"
      }
    },
    {
      "cell_type": "markdown",
      "source": [
        "To view the fluctuation we are using line plot so as to view clear fluctuations."
      ],
      "metadata": {
        "id": "5dBItgRVYoAp"
      }
    },
    {
      "cell_type": "markdown",
      "source": [
        "##### 2. What is/are the insight(s) found from the chart?"
      ],
      "metadata": {
        "id": "85gYPyotYoAp"
      }
    },
    {
      "cell_type": "markdown",
      "source": [
        "Here, we can see prices for resort hotels are higher and fluctuate more than city hotels."
      ],
      "metadata": {
        "id": "4jstXR6OYoAp"
      }
    },
    {
      "cell_type": "markdown",
      "source": [
        "##### 3. Will the gained insights help creating a positive business impact?\n",
        "Are there any insights that lead to negative growth? Justify with specific reason."
      ],
      "metadata": {
        "id": "RoGjAbkUYoAp"
      }
    },
    {
      "cell_type": "markdown",
      "source": [
        "* Prices of resort hotel are much higher.\n",
        "* Prices of city hotel do not fluctuate that much."
      ],
      "metadata": {
        "id": "zfJ8IqMcYoAp"
      }
    },
    {
      "cell_type": "markdown",
      "source": [
        "#### Chart - 4"
      ],
      "metadata": {
        "id": "4Of9eVA-YrdM"
      }
    },
    {
      "cell_type": "code",
      "source": [
        "# Chart - 4 visualization code\n",
        "plt.figure(figsize=(14, 10))\n",
        "sns.boxplot(x=\"BookRoomType\",\n",
        "            y=\"adr_pp\",\n",
        "            hue=\"Hotel\",\n",
        "            data=hotel,\n",
        "            hue_order=[\"City Hotel\", \"Resort Hotel\"],\n",
        "            fliersize=0)\n",
        "plt.title(\"Price of room types per night and person\", fontsize=16)\n",
        "plt.xlabel(\"Room type\", fontsize=16)\n",
        "plt.ylabel(\"Price [EUR]\", fontsize=16)\n",
        "plt.legend(loc=\"upper right\")\n",
        "plt.ylim(0, 160)\n",
        "plt.show()"
      ],
      "metadata": {
        "id": "irlUoxc8YrdO"
      },
      "execution_count": null,
      "outputs": []
    },
    {
      "cell_type": "markdown",
      "source": [
        "##### 1. Why did you pick the specific chart?"
      ],
      "metadata": {
        "id": "iky9q4vBYrdO"
      }
    },
    {
      "cell_type": "markdown",
      "source": [
        "Box plots are used to show distributions of numeric data values, especially when you want to compare them between multiple groups. They are built to provide high-level information at a glance, offering general information about a group of data's symmetry, skew, variance, and outlier."
      ],
      "metadata": {
        "id": "aJRCwT6DYrdO"
      }
    },
    {
      "cell_type": "markdown",
      "source": [
        "##### 2. What is/are the insight(s) found from the chart?"
      ],
      "metadata": {
        "id": "F6T5p64dYrdO"
      }
    },
    {
      "cell_type": "markdown",
      "source": [
        "This figure shows the average price per room, depending on its type and the standard deviation. Note that due to data anonymization rooms with the same type letter may not necessarily be the same across hotels."
      ],
      "metadata": {
        "id": "Xx8WAJvtYrdO"
      }
    },
    {
      "cell_type": "markdown",
      "source": [
        "##### 3. Will the gained insights help creating a positive business impact?\n",
        "Are there any insights that lead to negative growth? Justify with specific reason."
      ],
      "metadata": {
        "id": "y-Ehk30pYrdP"
      }
    },
    {
      "cell_type": "markdown",
      "source": [],
      "metadata": {
        "id": "jLNxxz7MYrdP"
      }
    },
    {
      "cell_type": "markdown",
      "source": [
        "#### Chart - 5"
      ],
      "metadata": {
        "id": "bamQiAODYuh1"
      }
    },
    {
      "cell_type": "code",
      "source": [
        "# Chart - 5 visualization code\n",
        "plt.figure(figsize=(15, 8))\n",
        "plt.subplot(1, 2, 1)\n",
        "sns.countplot(x='ArrivingYear',hue='Hotel', data=hotel,palette='husl')\n",
        "plt.title(\"Arrivals per year in Both hotels \",fontweight=\"bold\", size=20)\n",
        "plt.subplot(1, 2, 2)\n",
        "sns.countplot(data = hotel, x = 'ArrivingMonth')\n",
        "plt.title('Arrivals per month',fontweight=\"bold\", size=20)\n",
        "plt.subplots_adjust(right=1.7)\n",
        "\n",
        "plt.show()"
      ],
      "metadata": {
        "id": "TIJwrbroYuh3"
      },
      "execution_count": null,
      "outputs": []
    },
    {
      "cell_type": "markdown",
      "source": [
        "##### 1. Why did you pick the specific chart?"
      ],
      "metadata": {
        "id": "QHF8YVU7Yuh3"
      }
    },
    {
      "cell_type": "markdown",
      "source": [
        "\n",
        "The countplot is used to represent the occurrence(counts) of the observation present in the categorical variable. It uses the concept of a bar chart for the visual depiction.Answer Here."
      ],
      "metadata": {
        "id": "dcxuIMRPYuh3"
      }
    },
    {
      "cell_type": "markdown",
      "source": [
        "##### 2. What is/are the insight(s) found from the chart?"
      ],
      "metadata": {
        "id": "GwzvFGzlYuh3"
      }
    },
    {
      "cell_type": "markdown",
      "source": [
        "* We can see most of the bookings were in the year 2016 and bookings were doine in City hotel\n",
        "* Most bookings were done in the month of May,June, July, AugustAnswer Here"
      ],
      "metadata": {
        "id": "uyqkiB8YYuh3"
      }
    },
    {
      "cell_type": "markdown",
      "source": [
        "##### 3. Will the gained insights help creating a positive business impact?\n",
        "Are there any insights that lead to negative growth? Justify with specific reason."
      ],
      "metadata": {
        "id": "qYpmQ266Yuh3"
      }
    },
    {
      "cell_type": "markdown",
      "source": [
        "City hotels receive more guests throughout the year. Resort hotels appear to be slightly closer to city hotels in the summer when comparing proportions.\n",
        "The City Hotel sees an increase in visitors in the spring and fall when rates are also the greatest. Less people arrive in July and August, when the prices are still lower.Answer Here"
      ],
      "metadata": {
        "id": "_WtzZ_hCYuh4"
      }
    },
    {
      "cell_type": "markdown",
      "source": [
        "#### Chart - 6 - Correlation Heatmap"
      ],
      "metadata": {
        "id": "NC_X3p0fY2L0"
      }
    },
    {
      "cell_type": "code",
      "source": [
        "# Correlation Heatmap visualization code\n",
        "plt.figure(figsize=(12,8))\n",
        "sns.heatmap(hotel.corr(),annot=True,)"
      ],
      "metadata": {
        "id": "xyC9zolEZNRQ"
      },
      "execution_count": null,
      "outputs": []
    },
    {
      "cell_type": "markdown",
      "source": [
        "##### 1. Why did you pick the specific chart?"
      ],
      "metadata": {
        "id": "UV0SzAkaZNRQ"
      }
    },
    {
      "cell_type": "markdown",
      "source": [
        "A heatmap is a graphical representation of data where each value of a matrix is represented as a color."
      ],
      "metadata": {
        "id": "DVPuT8LYZNRQ"
      }
    },
    {
      "cell_type": "markdown",
      "source": [
        "##### 2. What is/are the insight(s) found from the chart?"
      ],
      "metadata": {
        "id": "YPEH6qLeZNRQ"
      }
    },
    {
      "cell_type": "markdown",
      "source": [
        "The lighter the color possibility of cancelation goes on decreasing"
      ],
      "metadata": {
        "id": "bfSqtnDqZNRR"
      }
    },
    {
      "cell_type": "markdown",
      "source": [
        "## **5. Solution to Business Objective**"
      ],
      "metadata": {
        "id": "JcMwzZxoAimU"
      }
    },
    {
      "cell_type": "markdown",
      "source": [
        "#### What do you suggest the client to achieve Business Objective ?\n",
        "Explain Briefly."
      ],
      "metadata": {
        "id": "8G2x9gOozGDZ"
      }
    },
    {
      "cell_type": "markdown",
      "source": [
        "According to me Business Objective is something that must be Explore and update according to market demand in a particular segment where you are the Master.Explore Your self in such a way that market will have to think before denying you.Epend in such a way that Market calls you for every such condition where you are a Master."
      ],
      "metadata": {
        "id": "pASKb0qOza21"
      }
    },
    {
      "cell_type": "markdown",
      "source": [
        "# **Conclusion**"
      ],
      "metadata": {
        "id": "gCX9965dhzqZ"
      }
    },
    {
      "cell_type": "markdown",
      "source": [
        "* The prices in the Resort hotel are much higher during the month of August. There is summer season there in portugal at that time. The price of the city hotel varies less and is most expensive during may and september where there is spring and autumn season respectively.\n",
        "* Repeated guests do not cancel their reservations. Of course there are some exceptions. Also most of the customers are not repeated guests.\n",
        "* Most people do not seem to prefer to stay at the hotel for more than 1 week. But it seems normal to stay in resort hotels for up to 12–13 days. Although this changes according to the segments, staying longer than 15 days certainly creates outliers for each segment.\n",
        "* Customers from Aviation Segment do not seem to be staying at the resort hotels and have a relatively lower day average.\n",
        "* The weekends and weekdays averages are roughly equal.\n",
        "*Customers in the Aviation Segment are likely to arrive shortly due to business. Also probably most airports are a bit away from sea and its most likely to be closer to city hotels.\n",
        "* The cancellation rate for groups is greater than 50%.\n",
        "* The cancellation rate for offline TA/TOs (Travel Agents/Tour Operators) and online TAs is greater than 33%.\n",
        "* Direct segments have a lower rate of cancellation.\n",
        "* When the lead time exceeds about 60, guests frequently cancel their bookings (cancellation rate is higher after this point). Additionally, people want their vacation or work schedules to be calculated across 100 days, or 50% of the data.\n",
        "* City hotels receive more guests throughout the year. Resort hotels appear to be slightly closer to city hotels in the summer when comparing proportions.\n",
        "* The City Hotel sees an increase in visitors in the spring and fall when rates are also the greatest. Less people arrive in July and August, when the prices are still lower.\n",
        "* From June through September, when costs are at their greatest, fewer guests stay at the Resort hotel. The winter season draws the fewest visitors to both hotels."
      ],
      "metadata": {
        "id": "Fjb1IsQkh3yE"
      }
    },
    {
      "cell_type": "markdown",
      "source": [
        "### ***Hurrah! You have successfully completed your EDA Capstone Project !!!***"
      ],
      "metadata": {
        "id": "gIfDvo9L0UH2"
      }
    }
  ]
}